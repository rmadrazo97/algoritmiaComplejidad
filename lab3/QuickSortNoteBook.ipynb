{
 "cells": [
  {
   "cell_type": "code",
   "execution_count": 1,
   "metadata": {},
   "outputs": [
    {
     "name": "stdout",
     "output_type": "stream",
     "text": [
      "[2, 3, 5, 7, 9, 10, 15, 21, 28, 32, 40, 55, 76, 89]\n"
     ]
    }
   ],
   "source": [
    "def quicksort(str):\n",
    "    #if p<r\n",
    "        #q= partition(A,p,r)\n",
    "        #quicksort(A,p,q-1)\n",
    "        #quicksort(A,q+1,r)\n",
    "    \n",
    "    if len(str) == 1 or len(str) == 0:\n",
    "        #ret arreglo si no contiene más de 1. \n",
    "        return str\n",
    "        \n",
    "    else:\n",
    "        pivot = str[0]\n",
    "        i = 0\n",
    "        for j in range(len(str)-1):\n",
    "            #for j = p to r-1\n",
    "            if str[j+1] < pivot:\n",
    "                \n",
    "                #if A[j]<= x\n",
    "                str[j+1],str[i+1] = str[i+1], str[j+1]\n",
    "                #exchange A[i] with A[j]\n",
    "                i += 1\n",
    "                #i=i+1\n",
    "        \n",
    "        str[0],str[i] = str[i],str[0]\n",
    "        #exchange A[i+1] with A[r]\n",
    "        str_1 = quicksort(str[:i])\n",
    "        str_2 = quicksort(str[i+1:])\n",
    "        #quicksort(A,p,q-1)\n",
    "        #quicksort(A,q+1,r)\n",
    "        str_1.append(str[i])\n",
    "        return str_1 + str_2\n",
    "    \n",
    "A =[5,10,15,32,55,21,40,2,3,76,89,28,9,7]\n",
    "print(quicksort(A))\n"
   ]
  },
  {
   "cell_type": "code",
   "execution_count": 2,
   "metadata": {},
   "outputs": [
    {
     "name": "stdout",
     "output_type": "stream",
     "text": [
      "[2, 3, 5, 7, 9, 15, 21, 28, 32, 40, 55, 76, 89, 150]\n"
     ]
    }
   ],
   "source": [
    "A =[5,150,15,32,55,21,40,2,3,76,89,28,9,7]\n",
    "print(quicksort(A))"
   ]
  },
  {
   "cell_type": "code",
   "execution_count": 3,
   "metadata": {},
   "outputs": [
    {
     "name": "stdout",
     "output_type": "stream",
     "text": [
      "[2, 3, 5, 7, 9, 21, 28, 32, 40, 55, 76, 89, 150, 335415]\n"
     ]
    }
   ],
   "source": [
    "A =[5,150,335415,32,55,21,40,2,3,76,89,28,9,7]\n",
    "print(quicksort(A))"
   ]
  },
  {
   "cell_type": "code",
   "execution_count": null,
   "metadata": {},
   "outputs": [],
   "source": []
  }
 ],
 "metadata": {
  "kernelspec": {
   "display_name": "Python 3",
   "language": "python",
   "name": "python3"
  },
  "language_info": {
   "codemirror_mode": {
    "name": "ipython",
    "version": 3
   },
   "file_extension": ".py",
   "mimetype": "text/x-python",
   "name": "python",
   "nbconvert_exporter": "python",
   "pygments_lexer": "ipython3",
   "version": "3.6.4"
  }
 },
 "nbformat": 4,
 "nbformat_minor": 2
}
